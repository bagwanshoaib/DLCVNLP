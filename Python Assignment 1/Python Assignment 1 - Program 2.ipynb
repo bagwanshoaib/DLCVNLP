{
 "cells": [
  {
   "cell_type": "code",
   "execution_count": 37,
   "metadata": {},
   "outputs": [],
   "source": [
    "def string_reverse(s): \n",
    "  str = \"\" \n",
    "  for i in s: \n",
    "    str = i + str\n",
    "  return str"
   ]
  },
  {
   "cell_type": "code",
   "execution_count": 34,
   "metadata": {},
   "outputs": [
    {
     "name": "stdout",
     "output_type": "stream",
     "text": [
      "Please enter your first name:Shoaib\n",
      "Please enter your last name:Bagwan\n",
      "First Name: Shoaib\n",
      "Last Name: Bagwan\n"
     ]
    }
   ],
   "source": [
    "firstName = input(\"Please enter your first name:\")\n",
    "lastName = input(\"Please enter your last name:\")\n",
    "\n",
    "print(\"First Name:\", firstName)\n",
    "print(\"Last Name:\", lastName)"
   ]
  },
  {
   "cell_type": "code",
   "execution_count": 36,
   "metadata": {},
   "outputs": [
    {
     "name": "stdout",
     "output_type": "stream",
     "text": [
      "First Name in reverse order: biaohS\n",
      "Last Name in reverse order: nawgaB\n"
     ]
    }
   ],
   "source": [
    "print(\"First Name in reverse order:\",string_reverse(firstName))\n",
    "print(\"Last Name in reverse order:\",string_reverse(lastName))"
   ]
  },
  {
   "cell_type": "code",
   "execution_count": null,
   "metadata": {},
   "outputs": [],
   "source": []
  }
 ],
 "metadata": {
  "kernelspec": {
   "display_name": "Python 3",
   "language": "python",
   "name": "python3"
  },
  "language_info": {
   "codemirror_mode": {
    "name": "ipython",
    "version": 3
   },
   "file_extension": ".py",
   "mimetype": "text/x-python",
   "name": "python",
   "nbconvert_exporter": "python",
   "pygments_lexer": "ipython3",
   "version": "3.8.3"
  }
 },
 "nbformat": 4,
 "nbformat_minor": 4
}
